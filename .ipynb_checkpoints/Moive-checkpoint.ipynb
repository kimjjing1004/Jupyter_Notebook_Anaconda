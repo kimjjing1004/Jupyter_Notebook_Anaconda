{
 "cells": [
  {
   "cell_type": "code",
   "execution_count": 1,
   "id": "9b0d1e53",
   "metadata": {},
   "outputs": [],
   "source": [
    "# Selenium : 웹 페이지가 실제 브라우저에서 오류 없이 잘 작동하는가 테스트 하는 도구\n",
    "# 1. 모듈 설치 : conda install selenium\n",
    "# 2. 브라우저 드라이버 \n",
    "#  브라우저 버전"
   ]
  },
  {
   "cell_type": "code",
   "execution_count": 2,
   "id": "7e996efb",
   "metadata": {},
   "outputs": [],
   "source": [
    "from selenium import webdriver"
   ]
  },
  {
   "cell_type": "code",
   "execution_count": 6,
   "id": "8dab1149",
   "metadata": {},
   "outputs": [],
   "source": [
    "# 드라이버 로드\n",
    "driver = webdriver.Chrome('driver/chromedriver.exe')\n",
    "\n",
    "#접속\n",
    "driver.get('http://www.opinet.co.kr')\n",
    "\n",
    "# 페이지 로드 전에 약간의 시간 -> 잠시 대기\n",
    "driver.implicitly_wait(3)"
   ]
  },
  {
   "cell_type": "code",
   "execution_count": 7,
   "id": "06d9ad84",
   "metadata": {},
   "outputs": [],
   "source": [
    "# 찾아갈 곳 클릭(xpath X, click() X)\n",
    "driver.execute_script('goSubPage(0,0,99)');\n",
    "\n",
    "# # 아이디 입력 이벤트 발생\n",
    "# input_id.send_keys(\"litmuscube\")\n",
    "\n",
    "# # 비밀번호 입력창 xpath: //*[@id=\"pw\"]\n",
    "# input_password = driver.find_element_by_xpath(\"//*[@id=\\\"pw\\\"]\")\n",
    "\n",
    "# # 비밀번호 입력 이벤트 발생\n",
    "# input_password.send_keys(\"password\")\n",
    "\n",
    "# # 로그인 버튼 xpath: //*[@id=\"log.login\"]\n",
    "# btn_submit = driver.find_element_by_xpath(\"//*[@id=\\\"log.login\\\"]\")\n",
    "\n",
    "# # btn_submit.click()"
   ]
  },
  {
   "cell_type": "code",
   "execution_count": null,
   "id": "0153cf0d",
   "metadata": {},
   "outputs": [],
   "source": [
    "# # 1. naver.com 접속\n",
    "# # 2. 검색어 입력\n",
    "# # 3. 검색 버튼 클릭\n",
    "# # 4. 검색 결과 소스 HTML 확인\n",
    "# driver = webdriver.Chrome(\"data/chromedriver.exe\")\n",
    "\n",
    "# driver.get(\"http://www.opinet.co.kr\")\n",
    "\n",
    "# # 검색어 창 selector: #query\n",
    "# # 검색 버튼 selector: #search_btn\n",
    "# input_search = driver.find_element_by_css_selector(\"#query\")\n",
    "# input_search.send_keys(\"WWDC\")\n",
    "# btn_search = driver.find_element_by_css_selector(\"#search_btn\")\n",
    "# btn_search.click()\n",
    "\n",
    "# # 결과 페이지 소스 확인\n",
    "# result = driver.page_source\n",
    "# print(result) # 크롤링 대상 페이지 소스\n",
    "# # BeautifulSoup으로 분석, 스크래핑"
   ]
  }
 ],
 "metadata": {
  "kernelspec": {
   "display_name": "Python 3",
   "language": "python",
   "name": "python3"
  },
  "language_info": {
   "codemirror_mode": {
    "name": "ipython",
    "version": 3
   },
   "file_extension": ".py",
   "mimetype": "text/x-python",
   "name": "python",
   "nbconvert_exporter": "python",
   "pygments_lexer": "ipython3",
   "version": "3.7.10"
  }
 },
 "nbformat": 4,
 "nbformat_minor": 5
}
