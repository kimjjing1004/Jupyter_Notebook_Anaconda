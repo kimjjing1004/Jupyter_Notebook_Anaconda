{
 "cells": [
  {
   "cell_type": "code",
   "execution_count": 5,
   "id": "7e996efb",
   "metadata": {},
   "outputs": [],
   "source": [
    "from selenium import webdriver"
   ]
  },
  {
   "cell_type": "code",
   "execution_count": 6,
   "id": "8dab1149",
   "metadata": {},
   "outputs": [],
   "source": [
    "driver = webdriver.Chrome('driver/chromedriver.exe')\n",
    "driver.get('http://www.opinet.co.kr')\n",
    "driver.implicitly_wait(20)"
   ]
  },
  {
   "cell_type": "code",
   "execution_count": 7,
   "id": "06d9ad84",
   "metadata": {},
   "outputs": [],
   "source": [
    "driver.execute_script('goSubPage(0,0,99)')"
   ]
  },
  {
   "cell_type": "code",
   "execution_count": 8,
   "id": "a7ce5e22",
   "metadata": {},
   "outputs": [],
   "source": [
    "gu_list_tmp = \\\n",
    "driver.find_element_by_xpath(\"\"\"//*[@id=\"SIGUNGU_NM0\"]\"\"\")"
   ]
  },
  {
   "cell_type": "code",
   "execution_count": 9,
   "id": "5ac5c3fd",
   "metadata": {},
   "outputs": [],
   "source": [
    "gu_list = gu_list_tmp.find_elements_by_tag_name('option')"
   ]
  },
  {
   "cell_type": "code",
   "execution_count": 10,
   "id": "66498208",
   "metadata": {},
   "outputs": [
    {
     "data": {
      "text/plain": [
       "[<selenium.webdriver.remote.webelement.WebElement (session=\"acab050f08308a2670a3df880af302a8\", element=\"cf3f0930-d229-4d8b-849c-383da1208c64\")>,\n",
       " <selenium.webdriver.remote.webelement.WebElement (session=\"acab050f08308a2670a3df880af302a8\", element=\"b3744ce8-809b-4685-8dc4-28e379c63003\")>,\n",
       " <selenium.webdriver.remote.webelement.WebElement (session=\"acab050f08308a2670a3df880af302a8\", element=\"b2c96dab-2ee0-4e31-8f8b-ff21e520e833\")>,\n",
       " <selenium.webdriver.remote.webelement.WebElement (session=\"acab050f08308a2670a3df880af302a8\", element=\"b1ce4788-5e8e-4684-b014-cda50b158c5e\")>,\n",
       " <selenium.webdriver.remote.webelement.WebElement (session=\"acab050f08308a2670a3df880af302a8\", element=\"e437d1c1-acdb-4c03-9d30-c32465be50df\")>,\n",
       " <selenium.webdriver.remote.webelement.WebElement (session=\"acab050f08308a2670a3df880af302a8\", element=\"60bba054-2928-4d5d-9587-017d6dd8cce9\")>,\n",
       " <selenium.webdriver.remote.webelement.WebElement (session=\"acab050f08308a2670a3df880af302a8\", element=\"86811c72-795d-4323-8c71-d301c1564e99\")>,\n",
       " <selenium.webdriver.remote.webelement.WebElement (session=\"acab050f08308a2670a3df880af302a8\", element=\"78f29b32-1c75-4dbe-8d5e-bd80f5b9756b\")>,\n",
       " <selenium.webdriver.remote.webelement.WebElement (session=\"acab050f08308a2670a3df880af302a8\", element=\"39d4d08d-3e00-48e0-962b-2f7d1808ffcb\")>,\n",
       " <selenium.webdriver.remote.webelement.WebElement (session=\"acab050f08308a2670a3df880af302a8\", element=\"b829d6c6-2b2b-4d4c-83fd-0f88944492b0\")>,\n",
       " <selenium.webdriver.remote.webelement.WebElement (session=\"acab050f08308a2670a3df880af302a8\", element=\"e8c0c35e-6d7c-454b-b14f-fda35cb16a1b\")>,\n",
       " <selenium.webdriver.remote.webelement.WebElement (session=\"acab050f08308a2670a3df880af302a8\", element=\"7bde9e2a-f5dd-44c0-9588-ef702dc5822d\")>,\n",
       " <selenium.webdriver.remote.webelement.WebElement (session=\"acab050f08308a2670a3df880af302a8\", element=\"f3857f8c-622e-4c7f-bdc5-ee7a8dc9080d\")>,\n",
       " <selenium.webdriver.remote.webelement.WebElement (session=\"acab050f08308a2670a3df880af302a8\", element=\"299e725c-c9f9-47c2-843a-cf890aadc2c3\")>,\n",
       " <selenium.webdriver.remote.webelement.WebElement (session=\"acab050f08308a2670a3df880af302a8\", element=\"4803231e-b15a-45af-8be5-0f52d9800aa6\")>,\n",
       " <selenium.webdriver.remote.webelement.WebElement (session=\"acab050f08308a2670a3df880af302a8\", element=\"d7af9f47-08ec-49ed-bb0d-eee6c526be42\")>,\n",
       " <selenium.webdriver.remote.webelement.WebElement (session=\"acab050f08308a2670a3df880af302a8\", element=\"109d59da-d38f-4d0e-8e9e-a779c4856cc6\")>,\n",
       " <selenium.webdriver.remote.webelement.WebElement (session=\"acab050f08308a2670a3df880af302a8\", element=\"8be7847f-4ead-44dc-afc4-e5e485d842c2\")>,\n",
       " <selenium.webdriver.remote.webelement.WebElement (session=\"acab050f08308a2670a3df880af302a8\", element=\"5bf0604a-b6e4-4fa9-a7ba-636327f29f0a\")>,\n",
       " <selenium.webdriver.remote.webelement.WebElement (session=\"acab050f08308a2670a3df880af302a8\", element=\"527ff133-fece-4dc0-a6cc-fa00f388bd23\")>,\n",
       " <selenium.webdriver.remote.webelement.WebElement (session=\"acab050f08308a2670a3df880af302a8\", element=\"2ea65069-4490-41f8-8804-6b3fb941fe5d\")>,\n",
       " <selenium.webdriver.remote.webelement.WebElement (session=\"acab050f08308a2670a3df880af302a8\", element=\"b008bb44-e6ce-4b4b-867a-e7b491de7f28\")>,\n",
       " <selenium.webdriver.remote.webelement.WebElement (session=\"acab050f08308a2670a3df880af302a8\", element=\"f50d925b-96fb-4895-a3e3-51d348e9e1ba\")>,\n",
       " <selenium.webdriver.remote.webelement.WebElement (session=\"acab050f08308a2670a3df880af302a8\", element=\"b54b5704-7354-4895-b91d-7d63a71f47b5\")>,\n",
       " <selenium.webdriver.remote.webelement.WebElement (session=\"acab050f08308a2670a3df880af302a8\", element=\"e648ff00-76fc-479f-9f51-d29b5b244ad8\")>,\n",
       " <selenium.webdriver.remote.webelement.WebElement (session=\"acab050f08308a2670a3df880af302a8\", element=\"3e0c75f3-4e29-4bb6-b565-4fa215b6641e\")>]"
      ]
     },
     "execution_count": 10,
     "metadata": {},
     "output_type": "execute_result"
    }
   ],
   "source": [
    "gu_list"
   ]
  },
  {
   "cell_type": "code",
   "execution_count": 11,
   "id": "528244b7",
   "metadata": {},
   "outputs": [
    {
     "data": {
      "text/plain": [
       "['',\n",
       " '강남구',\n",
       " '강동구',\n",
       " '강북구',\n",
       " '강서구',\n",
       " '관악구',\n",
       " '광진구',\n",
       " '구로구',\n",
       " '금천구',\n",
       " '노원구',\n",
       " '도봉구',\n",
       " '동대문구',\n",
       " '동작구',\n",
       " '마포구',\n",
       " '서대문구',\n",
       " '서초구',\n",
       " '성동구',\n",
       " '성북구',\n",
       " '송파구',\n",
       " '양천구',\n",
       " '영등포구',\n",
       " '용산구',\n",
       " '은평구',\n",
       " '종로구',\n",
       " '중구',\n",
       " '중랑구']"
      ]
     },
     "execution_count": 11,
     "metadata": {},
     "output_type": "execute_result"
    }
   ],
   "source": [
    "gu_name = [option.get_attribute('value')for option in gu_list]\n",
    "gu_name"
   ]
  },
  {
   "cell_type": "code",
   "execution_count": 12,
   "id": "8f7012bf",
   "metadata": {},
   "outputs": [
    {
     "data": {
      "text/plain": [
       "['강남구',\n",
       " '강동구',\n",
       " '강북구',\n",
       " '강서구',\n",
       " '관악구',\n",
       " '광진구',\n",
       " '구로구',\n",
       " '금천구',\n",
       " '노원구',\n",
       " '도봉구',\n",
       " '동대문구',\n",
       " '동작구',\n",
       " '마포구',\n",
       " '서대문구',\n",
       " '서초구',\n",
       " '성동구',\n",
       " '성북구',\n",
       " '송파구',\n",
       " '양천구',\n",
       " '영등포구',\n",
       " '용산구',\n",
       " '은평구',\n",
       " '종로구',\n",
       " '중구',\n",
       " '중랑구']"
      ]
     },
     "execution_count": 12,
     "metadata": {},
     "output_type": "execute_result"
    }
   ],
   "source": [
    "gu_name.remove('')\n",
    "gu_name"
   ]
  },
  {
   "cell_type": "code",
   "execution_count": 14,
   "id": "433b5d92",
   "metadata": {},
   "outputs": [],
   "source": [
    "element = driver.find_element_by_id('SIGUNGU_NM0')\n",
    "element.send_keys(gu_name[0])"
   ]
  },
  {
   "cell_type": "code",
   "execution_count": 15,
   "id": "37220ab1",
   "metadata": {},
   "outputs": [],
   "source": [
    "element_excel = driver.find_element_by_xpath(\"\"\"//*[@id=\"glopopd_excel\"]\"\"\").click()"
   ]
  },
  {
   "cell_type": "code",
   "execution_count": null,
   "id": "2ac72879",
   "metadata": {},
   "outputs": [],
   "source": []
  }
 ],
 "metadata": {
  "kernelspec": {
   "display_name": "Python 3",
   "language": "python",
   "name": "python3"
  },
  "language_info": {
   "codemirror_mode": {
    "name": "ipython",
    "version": 3
   },
   "file_extension": ".py",
   "mimetype": "text/x-python",
   "name": "python",
   "nbconvert_exporter": "python",
   "pygments_lexer": "ipython3",
   "version": "3.7.10"
  }
 },
 "nbformat": 4,
 "nbformat_minor": 5
}
